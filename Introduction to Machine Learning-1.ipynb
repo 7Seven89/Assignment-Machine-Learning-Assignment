{
 "cells": [
  {
   "cell_type": "markdown",
   "id": "2675ee27-5bb3-4212-9302-14ab3ceb3b0b",
   "metadata": {},
   "source": [
    "### Q1: Explain the following with an example:\n",
    "\n",
    "**a) Artificial Intelligence (AI)**  \n",
    "AI refers to the simulation of human intelligence in machines that are programmed to think, reason, and learn. AI systems can perform tasks like decision-making, language understanding, visual perception, and more.  \n",
    "**Example**: Apple's Siri or Amazon's Alexa, which can understand and respond to human commands.\n",
    "\n",
    "**b) Machine Learning (ML)**  \n",
    "ML is a subset of AI that enables machines to learn from data and improve their performance without being explicitly programmed.  \n",
    "**Example**: A spam filter that learns to classify emails as spam or not spam based on historical data.\n",
    "\n",
    "**c) Deep Learning (DL)**  \n",
    "DL is a subset of ML that uses neural networks with many layers (hence \"deep\") to model and solve complex problems.  \n",
    "**Example**: Image recognition systems that identify objects in pictures, such as Google Photos recognizing faces."
   ]
  },
  {
   "cell_type": "markdown",
   "id": "6bef4521-54b1-40fe-ba2a-b550be0e1846",
   "metadata": {},
   "source": []
  },
  {
   "cell_type": "markdown",
   "id": "efc0195b-beb5-4e18-894e-f4a29efa62ae",
   "metadata": {},
   "source": [
    "### Q2: What is supervised learning? List some examples of supervised learning.\n",
    "\n",
    "Supervised learning is a type of machine learning where the model is trained on labeled data, meaning the algorithm is provided both input data and the corresponding output (label). The goal is for the model to learn the relationship between the inputs and outputs so it can make predictions on new data.\n",
    "\n",
    "**Examples of supervised learning**:\n",
    "- Regression: Predicting house prices based on features like size, location, etc.\n",
    "- Classification: Email spam detection, where emails are classified as spam or not spam.\n",
    "- Image recognition: Identifying objects or faces in images with labeled data."
   ]
  },
  {
   "cell_type": "markdown",
   "id": "6ce7f5f8-464e-4628-a259-77bef4adc026",
   "metadata": {},
   "source": []
  },
  {
   "cell_type": "markdown",
   "id": "1a9dc3f9-0e60-4d7e-9d30-f55aa829cc25",
   "metadata": {},
   "source": [
    "### Q3: What is unsupervised learning? List some examples of unsupervised learning.\n",
    "\n",
    "Unsupervised learning is a type of machine learning where the model is trained on data without explicit labels. The goal is to find hidden patterns or intrinsic structures in the data.\n",
    "\n",
    "**Examples of unsupervised learning**:\n",
    "- Clustering: Grouping customers with similar purchasing behavior in retail.\n",
    "- Dimensionality Reduction: Reducing the number of variables in large datasets while preserving important information.\n",
    "- Anomaly Detection: Identifying unusual data points in a dataset, like detecting fraudulent transactions."
   ]
  },
  {
   "cell_type": "markdown",
   "id": "e3cd9e0f-fc29-4eb1-b5de-92abe1c4bac9",
   "metadata": {},
   "source": []
  },
  {
   "cell_type": "markdown",
   "id": "61af22d7-834a-4f8e-b1cf-509370b60cee",
   "metadata": {},
   "source": [
    "### Q4: What is the difference between AI, ML, DL, and DS?\n",
    "\n",
    "- **Artificial Intelligence (AI)**: The broad field of creating intelligent machines that can simulate human intelligence.\n",
    "- **Machine Learning (ML)**: A subset of AI that focuses on building systems that can learn from data.\n",
    "- **Deep Learning (DL)**: A subset of ML that uses neural networks with multiple layers to process large amounts of data.\n",
    "- **Data Science (DS)**: The interdisciplinary field that involves extracting insights from data using techniques from statistics, ML, and domain expertise."
   ]
  },
  {
   "cell_type": "markdown",
   "id": "30ad9575-79e6-49b9-b31a-93994e82d132",
   "metadata": {},
   "source": []
  },
  {
   "cell_type": "markdown",
   "id": "53b585b6-9fe8-4dd6-b807-eee2f0872e17",
   "metadata": {},
   "source": [
    "### Q5: What are the main differences between supervised, unsupervised, and semi-supervised learning?\n",
    "\n",
    "- **Supervised Learning**: The algorithm learns from labeled data (input-output pairs). Examples include regression and classification.\n",
    "- **Unsupervised Learning**: The algorithm learns from unlabeled data to find hidden patterns or structures. Examples include clustering and dimensionality reduction.\n",
    "- **Semi-supervised Learning**: A combination of supervised and unsupervised learning where the model is trained on a small amount of labeled data and a large amount of unlabeled data. This is useful when labeling data is expensive or time-consuming."
   ]
  },
  {
   "cell_type": "markdown",
   "id": "3b065d00-a138-478d-b57f-a00092bc1cc6",
   "metadata": {},
   "source": []
  },
  {
   "cell_type": "markdown",
   "id": "3051aaa7-673a-48ad-9a2e-d9958daee52f",
   "metadata": {},
   "source": [
    "### Q6: What is train, test, and validation split? Explain the importance of each term.\n",
    "\n",
    "- **Training Set**: The portion of the dataset used to train the machine learning model. The model learns the relationship between inputs and outputs.\n",
    "- **Validation Set**: A subset of data used during model training to tune hyperparameters and evaluate model performance without affecting the final evaluation.\n",
    "- **Test Set**: The portion of the dataset used to evaluate the final model’s performance after training. The model has never seen this data, making it ideal for testing its generalization ability.\n",
    "\n",
    "**Importance**:\n",
    "- **Training Set**: Helps the model learn.\n",
    "- **Validation Set**: Used to optimize and fine-tune the model.\n",
    "- **Test Set**: Provides an unbiased evaluation of the model's performance."
   ]
  },
  {
   "cell_type": "markdown",
   "id": "7a28a716-b3eb-480c-ba1a-95c11efd0257",
   "metadata": {},
   "source": []
  },
  {
   "cell_type": "markdown",
   "id": "065fbae0-08de-4d07-89a9-e0ca88333a0e",
   "metadata": {},
   "source": [
    "### Q7: How can unsupervised learning be used in anomaly detection?\n",
    "\n",
    "Unsupervised learning can be used in anomaly detection by learning the normal pattern of data and identifying instances that do not fit the pattern. Since anomaly data (outliers) is rare, it’s difficult to label enough data for supervised learning. Instead, models like clustering or autoencoders can identify deviations from the norm.\n",
    "\n",
    "**Example**: In fraud detection, clustering techniques can help identify transactions that do not belong to any known cluster, marking them as potential anomalies."
   ]
  },
  {
   "cell_type": "markdown",
   "id": "f24e04f5-4316-4549-9dc9-143f237473fd",
   "metadata": {},
   "source": []
  },
  {
   "cell_type": "markdown",
   "id": "ef501060-fcc1-4b56-a4b5-48f001089315",
   "metadata": {},
   "source": [
    "### Q8: List down some commonly used supervised learning algorithms and unsupervised learning algorithms.\n",
    "\n",
    "**Supervised Learning Algorithms**:\n",
    "- Linear Regression\n",
    "- Logistic Regression\n",
    "- Decision Trees\n",
    "- Support Vector Machines (SVM)\n",
    "- Random Forests\n",
    "- Neural Networks (for classification and regression tasks)\n",
    "\n",
    "**Unsupervised Learning Algorithms**:\n",
    "- K-Means Clustering\n",
    "- Hierarchical Clustering\n",
    "- Principal Component Analysis (PCA)\n",
    "- Independent Component Analysis (ICA)\n",
    "- Autoencoders"
   ]
  },
  {
   "cell_type": "markdown",
   "id": "980ed441-11c6-4f9b-b341-154925aa3bef",
   "metadata": {},
   "source": []
  }
 ],
 "metadata": {
  "kernelspec": {
   "display_name": "Python 3 (ipykernel)",
   "language": "python",
   "name": "python3"
  },
  "language_info": {
   "codemirror_mode": {
    "name": "ipython",
    "version": 3
   },
   "file_extension": ".py",
   "mimetype": "text/x-python",
   "name": "python",
   "nbconvert_exporter": "python",
   "pygments_lexer": "ipython3",
   "version": "3.12.5"
  }
 },
 "nbformat": 4,
 "nbformat_minor": 5
}
